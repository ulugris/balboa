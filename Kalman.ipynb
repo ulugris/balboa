{
 "cells": [
  {
   "cell_type": "markdown",
   "metadata": {},
   "source": [
    "# Filtro de Kalman para estimar la inclinación del chasis\n",
    "\n",
    "El objetivo es estimar lo mejor posible el ángulo de inclinación del chasis $\\theta$, utilizando únicamente la información de tres sensores: los ejes $x$ y $z$ del acelerómetro, y el eje $y$ del giróscopo. En este caso, podríamos conseguir una estimación más precisa utilizando el modelo completo del sistema, ya que disponemos también de *encoders* en los motores, pero eso requeriría programar un observador de estado innecesariamente complejo para este proyecto. Si se considera el sensor inercial como un sistema aislado, se puede obtener un filtro de Kalman muy sencillo, que proporciona una estimación del ángulo perfectamente válida para controlar el robot. Al no tener en cuenta el movimiento del sistema completo, tendremos que suponer que el acelerómetro sólo mide la aceleración de la gravedad, tratando cualquier otra aceleración como ruido del sensor.\n",
    "\n",
    "![Esquema del sistema](./Images/figure-05.png)"
   ]
  },
  {
   "cell_type": "markdown",
   "metadata": {},
   "source": [
    "## Modelo del sistema\n",
    "\n",
    "El filtro de Kalman que utilizaremos tiene un solo estado, que es el ángulo de inclinación $\\theta$, con un *input*, que es la velocidad angular del chasis $\\omega_y$, y dos sensores, que son las aceleraciones según los ejes $x$ y $z$ locales. La ecuación de propagación de estados en forma discreta, para un paso de tiempo constante $\\Delta t$, tendrá entonces la siguiente forma, con $A = \\left[1\\right]$ y $B = \\left[\\Delta t\\right]$:\n",
    "\n",
    "$$\n",
    "    \\theta_{n+1} = A\\theta_n + B\\left(\\omega_{yn} + v_n\\right)\n",
    "$$\n",
    "\n",
    "El término $v$ es el ruido del giróscopo, que consideraremos ruido blanco Gaussiano de varianza $\\sigma_v^2$. Al introducir el giróscopo como *input*, nos evitamos tener que duplicar estados: si el giróscopo se tratase como un sensor, el vector de estados tendría que contener también la velocidad angular $\\dot\\theta$, porque sería necesaria para la función de observación $\\mathbf h$.\n",
    "\n",
    "Si partimos del supuesto de que el acelerómetro sólo percibe la gravedad, podemos establecer la siguiente expresión para la función de observación, considerando aceleraciones medidas en $g$:\n",
    "\n",
    "$$\n",
    "    \\mathbf{h}_n = \\begin{bmatrix}\\cos\\theta_n \\\\ \\sin\\theta_n\\end{bmatrix} + \\mathbf w_n\n",
    "$$\n",
    "\n",
    "donde $\\mathbf w$ es un vector que contiene el ruido de los dos acelerómetros. Aunque no sea estrictamente cierto, porque se están incluyendo en $\\mathbf w$ las aceleraciones debidas al movimiento del sensor, asumiremos que ambas señales contienen ruido blanco Gaussiano de varianza $\\sigma_a^2$. La función $\\mathbf h$ es no lineal, así que tendremos que utilizar un EKF, donde la matriz Jacobiana de la función de observación será:\n",
    "\n",
    "$$\n",
    "    \\mathbf{H}_n = \\begin{bmatrix}-\\sin\\theta_n \\\\ \\cos\\theta_n\\end{bmatrix}\n",
    "$$\n",
    "\n",
    "La covarianza del ruido del sistema, teniendo en cuenta que el ruido del giróscopo va afectado por una ganancia $\\Delta t$ en la ecuación de estados, es:\n",
    "\n",
    "$$\n",
    "    Q = \\Delta_t^2\\sigma_v^2\n",
    "$$\n",
    "\n",
    "Y la matriz de covarianza del ruido de los acelerómetros, si suponemos que son independientes entre sí, es:\n",
    "\n",
    "$$\n",
    "    \\mathbf R = \\mathbf I_2\\sigma_a^2\n",
    "$$\n",
    "\n",
    "donde $\\mathbf I_2$ es una matriz identidad de 2 x 2."
   ]
  },
  {
   "cell_type": "code",
   "execution_count": null,
   "metadata": {},
   "outputs": [],
   "source": [
    "from sympy import symbols, Symbol, Matrix, sin, cos, solve, simplify, eye, sqrt\n",
    "\n",
    "theta, ax, az, gy, P = symbols('theta a_x a_z omega_y P')\n",
    "sv, sa = symbols('sigma_v sigma_a', real=True, positive=True)\n",
    "dt = Symbol('\\Delta t', real=True, positive=True)\n",
    "\n",
    "A = Matrix([1])                          # Matriz de propagación de estados\n",
    "B = Matrix([dt])                         # Matriz de entrada\n",
    "\n",
    "z = Matrix([[ax], [az]])                 # Vector de sensores (ejes x y z del acelerómetro)\n",
    "h = Matrix([[cos(theta)], [sin(theta)]]) # Función de sensores\n",
    "H = h.diff(theta)                        # Matriz Jacobiana de la función de sensores\n",
    "\n",
    "Q = Matrix([(dt*sv)**2])                 # Matriz de covarianza del ruido del sistema\n",
    "R = eye(2)*sa**2                         # Matriz de covarianza del ruido de los sensores"
   ]
  },
  {
   "cell_type": "markdown",
   "metadata": {},
   "source": [
    "## Filtro de Kalman Extendido (EKF)\n",
    "\n",
    "Las ecuaciones del EKF serán, teniendo en cuenta que en nuestro caso $A$, $B$, $Q$ y $\\mathbf R$ son constantes:\n",
    "\n",
    " * Estimación *a priori* del estado:\n",
    " \n",
    " $$\n",
    "     \\hat\\theta_{n+1}^- = A\\hat\\theta_n + B\\omega_{yn}\n",
    " $$\n",
    "\n",
    " * Valor *a priori* de la covarianza de la estimación:\n",
    "\n",
    " $$\n",
    "    P_{n+1}^- = AP_nA^{\\mathsf T} + Q\n",
    " $$\n",
    "\n",
    " * Ganancia del filtro:\n",
    "\n",
    " $$\n",
    "    \\mathbf K_{n+1} = P_{n+1}^-\\mathbf H_{n+1}^{-\\mathsf T}\\left(\\mathbf H_{n+1}^-P_{n+1}^-\\mathbf H_{n+1}^{-\\mathsf T} + \\mathbf R\\right)^{-1}\n",
    " $$\n",
    "\n",
    " * Corrección para obtener la estimación *a posteriori* del estado:\n",
    " \n",
    " $$\n",
    "     \\hat\\theta_{n+1} = \\hat\\theta_{n+1}^- + \\mathbf K_{n+1}\\left(\\mathbf z_{n+1} - \\mathbf h_{n+1}^-\\right)\n",
    " $$\n",
    "  \n",
    " * Valor *a posteriori* de la covarianza de la estimación:\n",
    " \n",
    " $$\n",
    "     P_{n+1} = \\left(1 - \\mathbf K_{n+1}\\mathbf H_{n+1}^-\\right)P_{n+1}^-\n",
    " $$\n",
    " "
   ]
  },
  {
   "cell_type": "markdown",
   "metadata": {},
   "source": [
    "## Filtro simplificado aprovechando la convergencia de $P$\n",
    "\n",
    "En este filtro, se puede comprobar que la covarianza de la estimación del estado $P$ converge a un valor constante al cabo de unas cuantas iteraciones. Este hecho nos va a resultar útil para simplificar el algoritmo y hacerlo más eficiente, como se verá a continuación. Lo primero que tenemos que hacer es expresar $P_{n+1}$ como función de $P_n$:"
   ]
  },
  {
   "cell_type": "code",
   "execution_count": null,
   "metadata": {},
   "outputs": [],
   "source": [
    "# Estimación a priori\n",
    "P1 = A*P*A.T + Q\n",
    "\n",
    "# Ganancia del filtro\n",
    "K = P1*H.T*(H*P1*H.T + R).inv()\n",
    "\n",
    "# Estimación a posteriori\n",
    "P2 = simplify((eye(1) - K*H)*P1)"
   ]
  },
  {
   "cell_type": "markdown",
   "metadata": {},
   "source": [
    "$$\n",
    "    P_{n+1} = \\frac{\\sigma_a^2\\left(P_n + \\Delta t^2\\sigma_v^2\\right)}{P_n + \\Delta t^2\\sigma_v^2 + \\sigma_a^2}\n",
    "$$\n",
    "\n",
    "Supondremos que, cuando $n$ sea suficientemente grande, $P$ convergerá a un valor constante $P_\\infty$. Eso quiere decir que tanto $P_n$ como $P_{n+1}$ alcanzarán dicho valor, así que podemos sustituirlos en la ecuación anterior, y resolverla después para obtener $P_\\infty$:"
   ]
  },
  {
   "cell_type": "code",
   "execution_count": null,
   "metadata": {},
   "outputs": [],
   "source": [
    "# Convergencia: P(n) = P(n + 1) si 'n' tiende a infinito\n",
    "Pinf = solve(P - P2[0], P)[0]"
   ]
  },
  {
   "cell_type": "markdown",
   "metadata": {},
   "source": [
    "La ecuación tiene solución real, de modo que, efectivamente, se cumple que $P$ converge a un valor constante $P_\\infty$:\n",
    "\n",
    "$$\n",
    "    P_\\infty = \\frac{1}{2}\\left(\\sqrt{\\Delta t^4\\sigma_v^4 + 4\\Delta t^2\\sigma_v^2\\sigma_a^2} - \\Delta t^2\\sigma_v^2\\right)\n",
    "$$\n",
    "\n",
    "Ahora estudiamos la estimación *a posteriori* del estado, mirando qué forma toma la corrección:"
   ]
  },
  {
   "cell_type": "code",
   "execution_count": null,
   "metadata": {},
   "outputs": [],
   "source": [
    "# Corrección del estado\n",
    "dx = simplify(K*(z - h))"
   ]
  },
  {
   "cell_type": "markdown",
   "metadata": {},
   "source": [
    "$$\n",
    "    \\mathbf K_{n+1}\\left(\\mathbf z_{n+1} - \\mathbf h_{n+1}^-\\right) = \\frac{P_n + \\Delta t^2\\sigma_v^2}{P_n + \\Delta t^2\\sigma_v^2 + \\sigma_a^2}\\left(\\bar a_{zn+1}\\cos\\hat\\theta_{n+1}^- - \\bar a_{xn+1}\\sin\\hat\\theta_{n+1}^-\\right)\n",
    "$$\n",
    "\n",
    "Cuando el filtro converge, $P_n$ alcanza el valor constante $P_\\infty$, de modo que podemos expresar la corrección como:\n",
    "\n",
    "$$\n",
    "    \\mathbf K_{n+1}\\left(\\mathbf z_{n+1} - \\mathbf h_{n+1}^-\\right) = C_\\infty\\left(\\bar a_{zn+1}\\cos\\hat\\theta_{n+1}^- - \\bar a_{xn+1}\\sin\\hat\\theta_{n+1}^-\\right)\n",
    "$$\n",
    "\n",
    "donde la constante $C_\\infty$ es una función de las varianzas y el paso de tiempo:\n",
    "\n",
    "$$\n",
    "    C_\\infty = \\frac{P_\\infty + \\Delta t^2\\sigma_v^2}{P_\\infty + \\Delta t^2\\sigma_v^2 + \\sigma_a^2} = \\frac{P_\\infty}{\\sigma_a^2}\n",
    "$$\n",
    "\n",
    "Esta expresión se puede linealizar para pasos de tiempo pequeños, resultando:"
   ]
  },
  {
   "cell_type": "code",
   "execution_count": null,
   "metadata": {},
   "outputs": [],
   "source": [
    "Cinf = Pinf/sa**2\n",
    "C0 = Cinf.subs(dt, 0) + Cinf.diff(dt).subs(dt, 0)*dt"
   ]
  },
  {
   "cell_type": "markdown",
   "metadata": {},
   "source": [
    "$$\n",
    "    C_\\infty \\approx \\frac{\\sigma_v}{\\sigma_a}\\Delta t\n",
    "$$\n",
    "\n",
    "Se puede comprobar que, cuando $\\sigma_v$ es menor que $\\sigma_a$, esta aproximación mantiene su validez para pasos de tiempo bastante elevados. Esto es precisamente lo que ocurre en nuestro sistema: $\\sigma_v^2$ es la varianza del ruido del giróscopo, que debería ser pequeña, mientras que $\\sigma_a^2$ incluye las aceleraciones no debidas a la gravedad, que serán de una magnitud mucho mayor que el ruido propio de los sensores. "
   ]
  },
  {
   "cell_type": "markdown",
   "metadata": {},
   "source": [
    "## Implementación en el microcontrolador\n",
    "\n",
    "En la práctica, no necesitaremos conocer las varianzas del ruido del giróscopo y los acelerómetros. Bastará con establecer que el parámetro $C_\\infty$ es igual a una constante $K$ multiplicada por el paso de tiempo:\n",
    "\n",
    "$$\n",
    "    C_\\infty \\approx K\\Delta t\n",
    "$$\n",
    "\n",
    "La constante $K$ es un parámetro que ajustaremos manualmente para conseguir el comportamiento deseado: un valor bajo de $K$ dará mayor peso al giróscopo, mientras que un valor elevado aplicará con mas intensidad la corrección de los acelerómetros.\n",
    "\n",
    "En resumen, el filtro de Kalman que se utilizará para estimar el ángulo de inclinación del robot consistirá simplemente en dos operaciones:\n",
    "\n",
    "$$\n",
    "\\begin{align}\n",
    "    \\hat\\theta_{n+1}^- &= \\hat\\theta_n + \\omega_{yn}\\Delta t \\\\\n",
    "    \\hat\\theta_{n+1} &= \\hat\\theta_{n+1}^- + K\\Delta t\\left(\\bar a_{zn+1}\\cos\\hat\\theta_{n+1}^- - \\bar a_{xn+1}\\sin\\hat\\theta_{n+1}^-\\right)\n",
    "\\end{align}    \n",
    "$$\n",
    "\n",
    "En cada vuelta del bucle de control, primero se integra un paso de tiempo utilizando la lectura del giróscopo, y luego se aplica la corrección usando las aceleraciones."
   ]
  }
 ],
 "metadata": {
  "kernelspec": {
   "display_name": "Python 3",
   "language": "python",
   "name": "python3"
  },
  "language_info": {
   "codemirror_mode": {
    "name": "ipython",
    "version": 3
   },
   "file_extension": ".py",
   "mimetype": "text/x-python",
   "name": "python",
   "nbconvert_exporter": "python",
   "pygments_lexer": "ipython3",
   "version": "3.7.7"
  }
 },
 "nbformat": 4,
 "nbformat_minor": 4
}
