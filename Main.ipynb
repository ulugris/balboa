{
 "cells": [
  {
   "cell_type": "markdown",
   "metadata": {},
   "source": [
    "# Control de un péndulo invertido <a href=\"http://lim.ii.udc.es/\"><img style=\"float: right;\" src=\"./Images/LogoLIM.png\"><a/>"
   ]
  },
  {
   "cell_type": "markdown",
   "metadata": {},
   "source": [
    "## Descripción del proyecto\n",
    "\n",
    "En este documento se mostrará cómo controlar un robot tipo péndulo invertido. En particular, se usará el robot comercial [Pololu Balboa 32U4](https://www.pololu.com/product/3575):\n",
    "\n",
    "![Imagen Balboa](https://a.pololu-files.com/picture/0J7589.320.gif)\n",
    "\n",
    "El *kit* consiste en un chasis y una placa de circuito impreso, listos para ensamblar un péndulo invertido con dos ruedas independientes. Entre otras cosas, dispondremos de:\n",
    "\n",
    "* Un microcontrolador [Microchip Atmega32U4](https://www.microchip.com/wwwproducts/en/ATmega32u4)\n",
    "* Dos amplificadores para motor DC [Texas Instruments DRV8838](https://www.ti.com/product/DRV8838)\n",
    "* Un acelerómetro y giróscopo de tres ejes [STMicroelectronics LSM6DS33](https://www.pololu.com/file/0J1087/LSM6DS33.pdf)\n",
    "* Un magnetómetro de tres ejes [STMicroelectronics LIS3MDL](https://www.pololu.com/file/0J1089/LIS3MDL.pdf)\n",
    "* Cuatro sensores de efecto Hall tipo [Diodes Incorporated AH1751](https://www.diodes.com/part/view/AH1751)\n",
    "\n",
    "El *kit* no incluye ruedas ni motores, para permitir al usuario elegir los más adecuados a su aplicación. Se proporcionan varios juegos de engranajes, que permiten ajustar la relación final de velocidades de las reductoras. En este proyecto se utilizará la siguiente configuración:\n",
    "\n",
    "* [Ruedas de 80 mm](https://www.pololu.com/product/1434)\n",
    "* [Motores HP 6V con reductora 75:1](https://www.pololu.com/product/2215)\n",
    "* Reductoras del robot ajustadas a 43:23\n",
    "\n",
    "Los motores tienen el eje extendido para acoplar unos pequeños discos magnéticos que, gracias a los sensores de efecto Hall de la placa, se pueden utilizar como *encoders*, con una resolución de 12 cpr."
   ]
  },
  {
   "cell_type": "markdown",
   "metadata": {},
   "source": [
    "## Realización del proyecto\n",
    "\n",
    "1. [**Modelo dinámico y ecuaciones del sistema**](./Model.ipynb)\n",
    "2. [**Ecuaciones del modelo de motor DC**](./Motor.ipynb)\n",
    "3. [**Estimación del ángulo de inclinación**](./Kalman.ipynb)\n",
    "4. [**Diseño del controlador**](./Control.ipynb)\n",
    "5. [**Control de la dirección**](./Steering.ipynb)"
   ]
  },
  {
   "cell_type": "markdown",
   "metadata": {},
   "source": [
    "## Bibliografía\n",
    "[1] Ogata, K. *Modern Control Engineering, 5th Ed.*, Pearson, 2010   \n",
    "[2] Williams II, R. L., Lawrence, D. A. *Linear State-Space Control Systems*, John Wiley & Sons, 2007  \n",
    "[3] Hespanha, J. P. *Linear Systems Theory, 2nd Ed.*, Princeton University Press, 2018  \n",
    "[4] Åström, K. J., Murray, R. M. [*Feedback Systems*](http://www.cds.caltech.edu/~murray/amwiki/), Princeton University Press, 2008  \n",
    "[5] Simon, D. *Optimal State Estimation*, John Wiley & Sons, 2006  \n",
    "[6] Grewal, M. S., Andrews, A. P. *Kalman Filtering, 4th Ed.*, John Wiley & Sons, 2014  \n",
    "[7] Gibbs, B. P. *Advanced Kalman Filtering, Least-Squares and Modeling*, John Wiley & Sons, 2011  \n",
    "[8] Bar Shalom, Y., Li, X. R., Kirubarajan, T. *Estimation with Applications to Tracking and Navigation*, John Wiley & Sons, 2001\n",
    "\n",
    "## Enlaces interesantes\n",
    "[1] Messner, B. et al. [*Control Tutorials for Matlab and Simulink*](http://ctms.engin.umich.edu)  \n",
    "[2] Babb, T.  [*How a Kalman Filter Works, in Pictures*](https://www.bzarg.com/p/how-a-kalman-filter-works-in-pictures/)"
   ]
  },
  {
   "cell_type": "markdown",
   "metadata": {},
   "source": [
    "## Acerca de este documento\n",
    "Autor: Urbano Lugrís Armesto  \n",
    "[Laboratorio de Ingeniería Mecánica](http://lim.ii.udc.es/)  \n",
    "[Escuela Politécnica de Ingeniería de Ferrol](https://www.udc.es/es/epef/)  \n",
    "[Universidad de A Coruña](https://www.udc.es/)  \n",
    "\n",
    "Este proyecto pertenece a la asignatura *Actuadores y Sensores*, de cuarto curso del Grado en Ingeniería Mecánica, impartido en la Escuela Politécnica de Ingeniería de Ferrol de la Universidad de A Coruña."
   ]
  }
 ],
 "metadata": {
  "kernelspec": {
   "display_name": "Python 3",
   "language": "python",
   "name": "python3"
  },
  "language_info": {
   "codemirror_mode": {
    "name": "ipython",
    "version": 3
   },
   "file_extension": ".py",
   "mimetype": "text/x-python",
   "name": "python",
   "nbconvert_exporter": "python",
   "pygments_lexer": "ipython3",
   "version": "3.7.7"
  }
 },
 "nbformat": 4,
 "nbformat_minor": 4
}
